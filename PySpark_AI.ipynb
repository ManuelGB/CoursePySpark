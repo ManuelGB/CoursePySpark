{
  "nbformat": 4,
  "nbformat_minor": 0,
  "metadata": {
    "colab": {
      "provenance": [],
      "collapsed_sections": []
    },
    "kernelspec": {
      "name": "python3",
      "display_name": "Python 3"
    },
    "accelerator": "GPU"
  },
  "cells": [
    {
      "cell_type": "markdown",
      "metadata": {
        "id": "K9frWlJfmtvA"
      },
      "source": [
        "## Instalación del entorno de trabajo\n",
        "\n"
      ]
    },
    {
      "cell_type": "markdown",
      "metadata": {
        "id": "Ej82DyODz9NT"
      },
      "source": [
        "Permite:\n",
        "\n",
        "\n",
        "1.   Instalar paquetes\n",
        "2.   Clonar repos\n",
        "3.   Comandos del S.O.\n",
        "4.   Graficar elementos\n",
        "5.   Subir y bajar archivos de nuestro Drive\n",
        "6.   Usar GPU (Unidad de procesamiento gráfico) o TPU (Unidad de procesamiento tensorial)\n",
        "\n"
      ]
    },
    {
      "cell_type": "code",
      "metadata": {
        "id": "WKzCgeMnvIoW",
        "colab": {
          "base_uri": "https://localhost:8080/"
        },
        "outputId": "e1fc612f-a61c-4739-ad51-066fc1253c56"
      },
      "source": [
        "##Ver la versión de Java y el SO\n",
        "!java -version"
      ],
      "execution_count": 1,
      "outputs": [
        {
          "output_type": "stream",
          "name": "stdout",
          "text": [
            "openjdk version \"11.0.16\" 2022-07-19\n",
            "OpenJDK Runtime Environment (build 11.0.16+8-post-Ubuntu-0ubuntu118.04)\n",
            "OpenJDK 64-Bit Server VM (build 11.0.16+8-post-Ubuntu-0ubuntu118.04, mixed mode, sharing)\n"
          ]
        }
      ]
    },
    {
      "cell_type": "code",
      "source": [
        "! nvidia-smi"
      ],
      "metadata": {
        "colab": {
          "base_uri": "https://localhost:8080/"
        },
        "id": "KrtxP5VFbCGl",
        "outputId": "6b225ce8-71be-45d5-d132-5b05d7a4e4c5"
      },
      "execution_count": 2,
      "outputs": [
        {
          "output_type": "stream",
          "name": "stdout",
          "text": [
            "Wed Oct 19 19:08:39 2022       \n",
            "+-----------------------------------------------------------------------------+\n",
            "| NVIDIA-SMI 460.32.03    Driver Version: 460.32.03    CUDA Version: 11.2     |\n",
            "|-------------------------------+----------------------+----------------------+\n",
            "| GPU  Name        Persistence-M| Bus-Id        Disp.A | Volatile Uncorr. ECC |\n",
            "| Fan  Temp  Perf  Pwr:Usage/Cap|         Memory-Usage | GPU-Util  Compute M. |\n",
            "|                               |                      |               MIG M. |\n",
            "|===============================+======================+======================|\n",
            "|   0  Tesla T4            Off  | 00000000:00:04.0 Off |                    0 |\n",
            "| N/A   52C    P8     9W /  70W |      0MiB / 15109MiB |      0%      Default |\n",
            "|                               |                      |                  N/A |\n",
            "+-------------------------------+----------------------+----------------------+\n",
            "                                                                               \n",
            "+-----------------------------------------------------------------------------+\n",
            "| Processes:                                                                  |\n",
            "|  GPU   GI   CI        PID   Type   Process name                  GPU Memory |\n",
            "|        ID   ID                                                   Usage      |\n",
            "|=============================================================================|\n",
            "|  No running processes found                                                 |\n",
            "+-----------------------------------------------------------------------------+\n"
          ]
        }
      ]
    },
    {
      "cell_type": "markdown",
      "metadata": {
        "id": "pufgwPvsyXIq"
      },
      "source": [
        "**NOTA:** Las máquinas virtuales de google Colab se reinician cada 12 horas. \n",
        "\n",
        "Caracteristicas de la máquina virtual:\n",
        "\n",
        "1.   Normal.- 12.72 GB de RAM y 107 GB HDD.\n",
        "2.   GPU.- 12.72 GB de RAM y 78 GB HDD, conectado a una tarjeta GPU (Nvidia Tesla K80, 24GB, 4992 núcleos).\n",
        "3.   TPU.- 12.72 GB de RAM y 48.97 GB HDD, conectado a una TPU.\n",
        "\n",
        "\n"
      ]
    },
    {
      "cell_type": "code",
      "metadata": {
        "id": "CKCfrNmi-PCs"
      },
      "source": [
        "## Descargar Spark\n",
        "#!wget https://www.apache.org/dyn/closer.lua/spark/spark-3.2.1/spark-3.2.1-bin-hadoop3.2.tgz\n",
        "     #https://www.apache.org/dyn/closer.lua/spark/spark-3.0.1/spark-3.0.1-bin-hadoop2.7.tgz\n",
        "#https://www.apache.org/dyn/closer.lua/spark/spark-3.0.1/spark-3.0.1-bin-hadoop2.7.tgz"
      ],
      "execution_count": null,
      "outputs": []
    },
    {
      "cell_type": "code",
      "metadata": {
        "id": "nx2S96_ffg6a",
        "colab": {
          "base_uri": "https://localhost:8080/"
        },
        "outputId": "12897f3c-6570-4bb6-8a3d-baebaa8f998d"
      },
      "source": [
        "ls"
      ],
      "execution_count": null,
      "outputs": [
        {
          "output_type": "stream",
          "name": "stdout",
          "text": [
            "\u001b[0m\u001b[01;34msample_data\u001b[0m/\n"
          ]
        }
      ]
    },
    {
      "cell_type": "code",
      "metadata": {
        "id": "UET9Mk3a-bEV"
      },
      "source": [
        "## Descomprimir Spark\n",
        "#!tar xf spark-3.2.1-bin-hadoop3.2.tgz\n"
      ],
      "execution_count": null,
      "outputs": []
    },
    {
      "cell_type": "code",
      "metadata": {
        "id": "Ne7ah0snjOmJ",
        "colab": {
          "base_uri": "https://localhost:8080/"
        },
        "outputId": "671978f5-b9dc-4f52-8660-b089b896135a"
      },
      "source": [
        "ls"
      ],
      "execution_count": null,
      "outputs": [
        {
          "output_type": "stream",
          "name": "stdout",
          "text": [
            "\u001b[0m\u001b[01;34msample_data\u001b[0m/\n"
          ]
        }
      ]
    },
    {
      "cell_type": "code",
      "metadata": {
        "id": "mtMlZWrY-bO-",
        "colab": {
          "base_uri": "https://localhost:8080/"
        },
        "outputId": "5787e437-1ab0-4392-b973-662c3ae7323b"
      },
      "source": [
        "!pip install pyspark"
      ],
      "execution_count": 2,
      "outputs": [
        {
          "output_type": "stream",
          "name": "stdout",
          "text": [
            "Looking in indexes: https://pypi.org/simple, https://us-python.pkg.dev/colab-wheels/public/simple/\n",
            "Collecting pyspark\n",
            "  Downloading pyspark-3.3.0.tar.gz (281.3 MB)\n",
            "\u001b[K     |████████████████████████████████| 281.3 MB 48 kB/s \n",
            "\u001b[?25hCollecting py4j==0.10.9.5\n",
            "  Downloading py4j-0.10.9.5-py2.py3-none-any.whl (199 kB)\n",
            "\u001b[K     |████████████████████████████████| 199 kB 47.9 MB/s \n",
            "\u001b[?25hBuilding wheels for collected packages: pyspark\n",
            "  Building wheel for pyspark (setup.py) ... \u001b[?25l\u001b[?25hdone\n",
            "  Created wheel for pyspark: filename=pyspark-3.3.0-py2.py3-none-any.whl size=281764026 sha256=e9a4936b4e94d4b7ba0693288bdfed5528d5e9c25c13e41402338e7ac3d13980\n",
            "  Stored in directory: /root/.cache/pip/wheels/7a/8e/1b/f73a52650d2e5f337708d9f6a1750d451a7349a867f928b885\n",
            "Successfully built pyspark\n",
            "Installing collected packages: py4j, pyspark\n",
            "Successfully installed py4j-0.10.9.5 pyspark-3.3.0\n"
          ]
        }
      ]
    },
    {
      "cell_type": "markdown",
      "metadata": {
        "id": "yzQi_jxZm21l"
      },
      "source": [
        "## Configuración de las variables de entorno\n",
        "\n",
        "\n",
        "\n",
        "\n"
      ]
    },
    {
      "cell_type": "code",
      "metadata": {
        "id": "YGsYkjLQ-bLD"
      },
      "source": [
        "#import os\n",
        "#os.environ[\"JAVA_HOME\"] = \"/usr/lib/jvm/java-11-openjdk-amd64\"\n",
        "#os.environ[\"SPARK_HOME\"] = \"/content/spark-3.0.1-bin-hadoop2.7\""
      ],
      "execution_count": null,
      "outputs": []
    },
    {
      "cell_type": "markdown",
      "metadata": {
        "id": "oVjCKr8YnAaZ"
      },
      "source": [
        "## Librerias a utilizar"
      ]
    },
    {
      "cell_type": "code",
      "metadata": {
        "id": "TQCI-DWY-bIi"
      },
      "source": [
        "#Librerias principales\n",
        "import findspark\n",
        "findspark.init()"
      ],
      "execution_count": null,
      "outputs": []
    },
    {
      "cell_type": "code",
      "metadata": {
        "id": "NH3WTcJh-rk2"
      },
      "source": [
        "from pyspark.sql import SparkSession"
      ],
      "execution_count": null,
      "outputs": []
    },
    {
      "cell_type": "code",
      "metadata": {
        "id": "24L3UTVy-rro"
      },
      "source": [
        "##Creamos una sesión de Spark\n",
        "spark = SparkSession.builder.master(\"local[*]\").getOrCreate()\n",
        "sc=spark.sparkContext"
      ],
      "execution_count": null,
      "outputs": []
    },
    {
      "cell_type": "markdown",
      "metadata": {
        "id": "cSNgFj5ZnIab"
      },
      "source": [
        "## Montar drive para acceder a nuestros archivos en nube"
      ]
    },
    {
      "cell_type": "code",
      "metadata": {
        "id": "M1xL5etX-rxM",
        "colab": {
          "base_uri": "https://localhost:8080/"
        },
        "outputId": "22da0e32-63db-49a8-cbd4-5ccef6a03688"
      },
      "source": [
        "from google.colab import drive \n",
        "drive.mount('/content/drive')"
      ],
      "execution_count": null,
      "outputs": [
        {
          "output_type": "stream",
          "name": "stdout",
          "text": [
            "Mounted at /content/drive\n"
          ]
        }
      ]
    },
    {
      "cell_type": "markdown",
      "metadata": {
        "id": "Wq1z3XbbrMLS"
      },
      "source": [
        "## Big Data\n"
      ]
    },
    {
      "cell_type": "markdown",
      "metadata": {
        "id": "XNlvQkP9rrF4"
      },
      "source": [
        "En el análisis de datos, la selección de herramientas es muy importante. Si su herramienta no es la adecuada, la mayor parte de su tiempo será no productivo."
      ]
    },
    {
      "cell_type": "markdown",
      "metadata": {
        "id": "IPX8z2ZFs0Sg"
      },
      "source": [
        "Los datos están creciendo desde todos los ángulos y para que tengan sentido debemos analizarlos ej:\n",
        "\n",
        "\n",
        "\n",
        "1.   Motores de búsqueda.\n",
        "2.   Redes sociales (Facebook procesa 60TB de datos diariamente, Spark y MapReduce están en el centro de sus algoritmos).\n",
        "3.   Internet de las cosas.\n",
        "4.   Genómica del ADN (Illumina).\n",
        "5.   Etc.\n",
        "\n",
        "\n",
        "Los volúmenes de datos generados y procesados han cruzado el umbral de Exabytes. Para satisfacer estos requisitos computacionales masivos, necesitamos algoritmos precisos y eficientes, que puedan trabajar en paralelo.\n",
        "Apache Spark es una plataforma para trabajar con Big Data, utiliza el paradigma MapReduce, para particionar los datos en fragmentos y procesarlos en paralelo.\n",
        "\n",
        "\n"
      ]
    },
    {
      "cell_type": "markdown",
      "metadata": {
        "id": "mlUuaH06-O0q"
      },
      "source": [
        "El lenguaje nativo de Apache Spark es Scala, pero puede trabajar desde otros lenguajes de programación como: Java, R y Python."
      ]
    },
    {
      "cell_type": "markdown",
      "metadata": {
        "id": "2ut1YvuJ6510"
      },
      "source": [
        "Principales aplicaciones de PySpark\n",
        "\n",
        "\n",
        "\n",
        "1.   ETL (Extract, transform and load).\n",
        "2.   Procesamiento de texto.\n",
        "3.   Análisis de sentimientos.\n",
        "4.   Algoritmos de aprendizaje automático.\n",
        "5.   Algoritmos de regresión.\n",
        "6.   Algoritmos de secuenciación de ADN.\n",
        "7.   Agrupación y clasificación de documentos.\n",
        "8.   Bioinformática (alineación, recalibración, ingestión de línea germinal,..)\n",
        "9.   Análisis del genoma (análisis de biomarcadores)\n",
        "10.  Etc.\n"
      ]
    },
    {
      "cell_type": "markdown",
      "metadata": {
        "id": "F_YPNHfz824R"
      },
      "source": [
        "\n",
        "¿ Por qué deberías usar Spark?\n",
        "\n",
        "*   Es rápido.\n",
        "*   Es robusto.\n",
        "*   De código abierto y gratuito.\n",
        "*   Puede trabajar en cluster.\n",
        "\n",
        "El poder y la simplicidad de Spark son muy necesarios para resolver problemas complejos de Big Data. Apache Spark es más rápido que Apache Hadoop porque utiliza un almacenamiento en caché y una ejecución optimzada para un rendimiento rápido.\n",
        "\n"
      ]
    },
    {
      "cell_type": "markdown",
      "metadata": {
        "id": "Ff8WKLFy-90b"
      },
      "source": [
        "Los conjuntos de datos distribuidos resilientes (RDD) son una abstracción de datos fundamental en Spark.\n",
        "Los RDD representan sus datos como colección de elementos, en pocas palabras es un conjunto inmutable de elementos distribuidos."
      ]
    },
    {
      "cell_type": "markdown",
      "source": [
        "**Una vez que se crea el RDD no se  puede cambiar**\n",
        "\n",
        "Cada RDD se divide en particiones lógicas, que se pueden calcular en diferentes nodos de clúster."
      ],
      "metadata": {
        "id": "NEhtIDb8ryeI"
      }
    },
    {
      "cell_type": "markdown",
      "source": [
        "**Transformaciones RDD**\n",
        "\n",
        "Devuelen otro RDD y las transformaciones son perezosas, lo que significa que no se ejecutan hasta que llamas a auna acción en RDD. Algunas transformaciones en los RDD son *flatMap()*, *map()*, *reduceByKey()*, *filter()*, *sortByKey()*.\n",
        "\n",
        "Todas estas devuelven un nuevo RDD en lugar de actualizar el actual."
      ],
      "metadata": {
        "id": "9JieaJXytd09"
      }
    },
    {
      "cell_type": "markdown",
      "source": [
        "**Acciones de los RDD**\n",
        "\n",
        "Devuelven los valores de un RDD a un nodo de controlador. En otras palabras, cualquier función RDD que no devuelva RDD se considera acción. Algunas acciones con RDD son; *count()*, *collect()*, *first()*, *max()* y *reduce()*.\n"
      ],
      "metadata": {
        "id": "UP9wQyFd4JmU"
      }
    },
    {
      "cell_type": "markdown",
      "metadata": {
        "id": "9WLbzKnh_SA6"
      },
      "source": [
        "**Transformaciones RDD simples:**\n",
        "\n",
        "\n",
        "\n",
        "Lectura de un archivo\n",
        "```\n",
        "# spark.sparkContext.textfile(\"sample.txt\") --->   \"Red,Fox,is,fast\"\n",
        "```\n",
        "\n",
        "\n",
        "Transformación uno a uno.\n",
        "```\n",
        "# .map(lambda x: x.lower())   --->   \"red,fox,is,fast\"\n",
        "```\n",
        "\n",
        "\n",
        "\n",
        "Transformación de uno a muchos (para convertir cada elemento que representa un único registro, en una secuencia de elementos objetivo que representa una palabra).\n",
        "```\n",
        "# .flatMap(lambda x: x.split(\",\"))   --->   \"red\" \"fox\" \"is\" \"fast\"\n",
        "```\n",
        "\n",
        "\n",
        "\n",
        "Eliminamos elementos de  palabras no necesarias, donde la longitud de los elementos es menos o iagual que 2\n",
        "```\n",
        "# .filter(lambda x: len(x) > 2)   --->   \"red\" \"fox\" \"fast\"\n",
        "```\n",
        "\n",
        "\n",
        "\n",
        "\n"
      ]
    },
    {
      "cell_type": "markdown",
      "metadata": {
        "id": "yN2Y7FIMEfQA"
      },
      "source": [
        "\n",
        "\n",
        "---\n",
        "\n"
      ]
    },
    {
      "cell_type": "markdown",
      "source": [
        "**DataFrame**\n",
        "\n",
        "Es una colección distribuida de datos organizados en columnas con nombre. Conceptualmente equivalente a una tabla en una base de datos relacional o un marco de datos en R/Python, pero con optimizaciones más ricas bajo el capó. Los marcos de datos se pueden construir a partir de una amplia gama de fuentes, como archivos de datos estructurados, tablas en Hive, bases de datos externas o RDD existentes.  "
      ],
      "metadata": {
        "id": "i-gLJ_L55Akr"
      }
    },
    {
      "cell_type": "code",
      "source": [
        "data = [('James','','Smith','1991-04-01','M',3000),\n",
        "  ('Michael','Rose','','2000-05-19','M',4000),\n",
        "  ('Robert','','Williams','1978-09-05','M',4000),\n",
        "  ('Maria','Anne','Jones','1967-12-01','F',4000),\n",
        "  ('Jen','Mary','Brown','1980-02-17','F',-1)\n",
        "]"
      ],
      "metadata": {
        "id": "gTjfjlO76xeo"
      },
      "execution_count": null,
      "outputs": []
    },
    {
      "cell_type": "code",
      "source": [
        "columns = [\"firstname\",\"middlename\",\"lastname\",\"dob\",\"gender\",\"salary\"]\n",
        "df = spark.createDataFrame(data=data, schema = columns)"
      ],
      "metadata": {
        "id": "54tyCJe861cJ"
      },
      "execution_count": null,
      "outputs": []
    },
    {
      "cell_type": "code",
      "source": [
        "df.show()"
      ],
      "metadata": {
        "colab": {
          "base_uri": "https://localhost:8080/"
        },
        "id": "X2JK2HK27xNX",
        "outputId": "a9606eaf-d651-4d1d-8057-077d4b4b26ae"
      },
      "execution_count": null,
      "outputs": [
        {
          "output_type": "stream",
          "name": "stdout",
          "text": [
            "+---------+----------+--------+----------+------+------+\n",
            "|firstname|middlename|lastname|       dob|gender|salary|\n",
            "+---------+----------+--------+----------+------+------+\n",
            "|    James|          |   Smith|1991-04-01|     M|  3000|\n",
            "|  Michael|      Rose|        |2000-05-19|     M|  4000|\n",
            "|   Robert|          |Williams|1978-09-05|     M|  4000|\n",
            "|    Maria|      Anne|   Jones|1967-12-01|     F|  4000|\n",
            "|      Jen|      Mary|   Brown|1980-02-17|     F|    -1|\n",
            "+---------+----------+--------+----------+------+------+\n",
            "\n"
          ]
        }
      ]
    },
    {
      "cell_type": "markdown",
      "metadata": {
        "id": "Unf8LEGcEqGE"
      },
      "source": [
        "## Ejemplo"
      ]
    },
    {
      "cell_type": "markdown",
      "source": [
        "Utilizando parallelize se crea un RDD a partir de una lista. También se puede crear a partir de un archivo con textfile"
      ],
      "metadata": {
        "id": "PoKWyaHVsfPR"
      }
    },
    {
      "cell_type": "code",
      "metadata": {
        "id": "bVlDfs_CIstY"
      },
      "source": [
        "rdd=sc.parallelize([(\"Red\"), (\"Fox\"), (\"Is\"), (\"fast\")])"
      ],
      "execution_count": null,
      "outputs": []
    },
    {
      "cell_type": "code",
      "metadata": {
        "id": "NG-X-3-TmJf0",
        "colab": {
          "base_uri": "https://localhost:8080/"
        },
        "outputId": "36afb7dd-a84d-4d16-a231-da20e579fa7c"
      },
      "source": [
        "type(rdd)"
      ],
      "execution_count": null,
      "outputs": [
        {
          "output_type": "execute_result",
          "data": {
            "text/plain": [
              "pyspark.rdd.RDD"
            ]
          },
          "metadata": {},
          "execution_count": 7
        }
      ]
    },
    {
      "cell_type": "code",
      "source": [
        "a=[(\"Red\"), (\"Fox\"), (\"Is\"), (\"fast\")]\n",
        "type(a)"
      ],
      "metadata": {
        "colab": {
          "base_uri": "https://localhost:8080/"
        },
        "id": "G23GNSCcJGnl",
        "outputId": "85390946-ae59-4dee-ea58-c42ca45054b9"
      },
      "execution_count": null,
      "outputs": [
        {
          "output_type": "execute_result",
          "data": {
            "text/plain": [
              "list"
            ]
          },
          "metadata": {},
          "execution_count": 8
        }
      ]
    },
    {
      "cell_type": "markdown",
      "metadata": {
        "id": "097QFgBBK7rt"
      },
      "source": [
        "Para ver que hay dentro de un rdd se puede utilizar la acción \n",
        "\n",
        "```\n",
        "# rdd.take(int)\n",
        "```\n",
        "\n"
      ]
    },
    {
      "cell_type": "code",
      "metadata": {
        "id": "pJ9hPqWWDuCs",
        "colab": {
          "base_uri": "https://localhost:8080/"
        },
        "outputId": "0c242abf-95a2-48c8-8feb-1be439b879db"
      },
      "source": [
        "rdd.take(2)"
      ],
      "execution_count": null,
      "outputs": [
        {
          "output_type": "execute_result",
          "data": {
            "text/plain": [
              "['Red', 'Fox']"
            ]
          },
          "metadata": {},
          "execution_count": 9
        }
      ]
    },
    {
      "cell_type": "code",
      "metadata": {
        "id": "z4PAbHdQmS02",
        "colab": {
          "base_uri": "https://localhost:8080/"
        },
        "outputId": "ed33251a-7e54-496c-b53c-c04746752028"
      },
      "source": [
        "rdd.count() #Acción"
      ],
      "execution_count": null,
      "outputs": [
        {
          "output_type": "execute_result",
          "data": {
            "text/plain": [
              "4"
            ]
          },
          "metadata": {},
          "execution_count": 10
        }
      ]
    },
    {
      "cell_type": "code",
      "metadata": {
        "id": "qBsgoCYMI57q"
      },
      "source": [
        "rdd1=rdd.map(lambda s:s.lower()) #Cambiamos todos los elementos del rdd \n",
        "#a min."
      ],
      "execution_count": null,
      "outputs": []
    },
    {
      "cell_type": "code",
      "metadata": {
        "id": "MUisMj4Bmgbt",
        "colab": {
          "base_uri": "https://localhost:8080/"
        },
        "outputId": "97d6c1be-6c17-43ac-f4f6-73cefc7fa081"
      },
      "source": [
        "rdd.take(4)"
      ],
      "execution_count": null,
      "outputs": [
        {
          "output_type": "execute_result",
          "data": {
            "text/plain": [
              "['Red', 'Fox', 'Is', 'fast']"
            ]
          },
          "metadata": {},
          "execution_count": 12
        }
      ]
    },
    {
      "cell_type": "code",
      "metadata": {
        "id": "-p1koTu2JRIG",
        "colab": {
          "base_uri": "https://localhost:8080/"
        },
        "outputId": "a082117e-b1d7-49da-8b27-d536a9ca73c5"
      },
      "source": [
        "rdd1.take(4)"
      ],
      "execution_count": null,
      "outputs": [
        {
          "output_type": "execute_result",
          "data": {
            "text/plain": [
              "['red', 'fox', 'is', 'fast']"
            ]
          },
          "metadata": {},
          "execution_count": 13
        }
      ]
    },
    {
      "cell_type": "code",
      "metadata": {
        "id": "SwXpuyeBNg6r"
      },
      "source": [
        "rdd3=rdd1.filter(lambda x: len(x) < 3) #Filtramos los elementos del\n",
        "#rdd con tamaño menor a 3"
      ],
      "execution_count": null,
      "outputs": []
    },
    {
      "cell_type": "code",
      "metadata": {
        "id": "8NeOqKptNwop",
        "colab": {
          "base_uri": "https://localhost:8080/"
        },
        "outputId": "77138eaa-95a2-4b1a-8ffa-a088f9cf4e2f"
      },
      "source": [
        "rdd3.take(10)"
      ],
      "execution_count": null,
      "outputs": [
        {
          "output_type": "execute_result",
          "data": {
            "text/plain": [
              "['is']"
            ]
          },
          "metadata": {},
          "execution_count": 15
        }
      ]
    },
    {
      "cell_type": "code",
      "metadata": {
        "colab": {
          "base_uri": "https://localhost:8080/"
        },
        "id": "nuU1z5L7P5P_",
        "outputId": "6fd7a1b1-df29-4c33-d2f8-5d7f69b2fb88"
      },
      "source": [
        "rdd3.count()"
      ],
      "execution_count": null,
      "outputs": [
        {
          "output_type": "execute_result",
          "data": {
            "text/plain": [
              "1"
            ]
          },
          "metadata": {},
          "execution_count": 16
        }
      ]
    },
    {
      "cell_type": "code",
      "metadata": {
        "id": "_YE2HOV_OiPn",
        "colab": {
          "base_uri": "https://localhost:8080/"
        },
        "outputId": "9a188905-7002-465d-a35e-71904cea8605"
      },
      "source": [
        "rdd1.take(4)"
      ],
      "execution_count": null,
      "outputs": [
        {
          "output_type": "execute_result",
          "data": {
            "text/plain": [
              "['red', 'fox', 'is', 'fast']"
            ]
          },
          "metadata": {},
          "execution_count": 17
        }
      ]
    },
    {
      "cell_type": "code",
      "metadata": {
        "id": "p6GxIOeNJWdO"
      },
      "source": [
        "rdd4=rdd1.flatMap(lambda s:s.split(','))"
      ],
      "execution_count": null,
      "outputs": []
    },
    {
      "cell_type": "code",
      "metadata": {
        "id": "9t2Yhs5JOcKF",
        "colab": {
          "base_uri": "https://localhost:8080/"
        },
        "outputId": "0460e050-1dd9-4058-e156-80d148dc96f5"
      },
      "source": [
        "rdd4.take(2)"
      ],
      "execution_count": null,
      "outputs": [
        {
          "output_type": "execute_result",
          "data": {
            "text/plain": [
              "['red', 'fox']"
            ]
          },
          "metadata": {},
          "execution_count": 19
        }
      ]
    },
    {
      "cell_type": "markdown",
      "metadata": {
        "id": "kL3cImHTEs8t"
      },
      "source": [
        "Spark nos permite crear nuevos RDD a partir de archivos nuevos (estructura de datos como listas).\n",
        "Se utilizará \n",
        "\n",
        "```\n",
        "# SparkContext. parallelize()\n",
        "```\n",
        "para crear un nuevo RDD a partir de una colección de datos: \n"
      ]
    },
    {
      "cell_type": "code",
      "metadata": {
        "id": "2D7kvOx2swmO"
      },
      "source": [
        "data = [(\"fox\",6),(\"dog\",5),(\"fox\",3),(\"dog\",8),(\"cat\",1),(\"cat\",2),(\"cat\",3),(\"cat\",4)]"
      ],
      "execution_count": null,
      "outputs": []
    },
    {
      "cell_type": "code",
      "metadata": {
        "id": "Wr1PD3jtFiZu",
        "colab": {
          "base_uri": "https://localhost:8080/"
        },
        "outputId": "0503b014-ab69-4a30-f29f-2190f35d4fae"
      },
      "source": [
        "type(data)"
      ],
      "execution_count": null,
      "outputs": [
        {
          "output_type": "execute_result",
          "data": {
            "text/plain": [
              "list"
            ]
          },
          "metadata": {},
          "execution_count": 21
        }
      ]
    },
    {
      "cell_type": "code",
      "metadata": {
        "id": "qmhUJrgaFlVA"
      },
      "source": [
        "rdd = sc.parallelize(data)"
      ],
      "execution_count": null,
      "outputs": []
    },
    {
      "cell_type": "code",
      "metadata": {
        "id": "VOuFl3K6FlR9",
        "colab": {
          "base_uri": "https://localhost:8080/"
        },
        "outputId": "51a7f5f1-1f83-4251-dbd2-b6615b8888fc"
      },
      "source": [
        "type(rdd)"
      ],
      "execution_count": null,
      "outputs": [
        {
          "output_type": "execute_result",
          "data": {
            "text/plain": [
              "pyspark.rdd.RDD"
            ]
          },
          "metadata": {},
          "execution_count": 23
        }
      ]
    },
    {
      "cell_type": "code",
      "metadata": {
        "id": "36ej-8ZNGPBD",
        "colab": {
          "base_uri": "https://localhost:8080/"
        },
        "outputId": "9ca5687c-ab03-442d-c314-5eac62680cd8"
      },
      "source": [
        "rdd.count()"
      ],
      "execution_count": null,
      "outputs": [
        {
          "output_type": "execute_result",
          "data": {
            "text/plain": [
              "8"
            ]
          },
          "metadata": {},
          "execution_count": 24
        }
      ]
    },
    {
      "cell_type": "code",
      "metadata": {
        "id": "rJwWPgvWLEl8",
        "colab": {
          "base_uri": "https://localhost:8080/"
        },
        "outputId": "a57af817-cd9d-45b2-b6cb-e656ca6b24e3"
      },
      "source": [
        "rdd.take(8)"
      ],
      "execution_count": null,
      "outputs": [
        {
          "output_type": "execute_result",
          "data": {
            "text/plain": [
              "[('fox', 6),\n",
              " ('dog', 5),\n",
              " ('fox', 3),\n",
              " ('dog', 8),\n",
              " ('cat', 1),\n",
              " ('cat', 2),\n",
              " ('cat', 3),\n",
              " ('cat', 4)]"
            ]
          },
          "metadata": {},
          "execution_count": 29
        }
      ]
    },
    {
      "cell_type": "markdown",
      "metadata": {
        "id": "mf_8Urc0GVKi"
      },
      "source": [
        "\n",
        "\n",
        "---\n",
        "\n"
      ]
    },
    {
      "cell_type": "markdown",
      "metadata": {
        "id": "NO1QNxIAGWlo"
      },
      "source": [
        "La transformación \n",
        "\n",
        "```\n",
        "# reduceByKey()\n",
        "```\n",
        "\n",
        " se usa para fusionar y agregar valores de la misma clave:"
      ]
    },
    {
      "cell_type": "code",
      "metadata": {
        "id": "SWP03f0jGz6J"
      },
      "source": [
        "sum = rdd.reduceByKey(lambda x, y: x+y)"
      ],
      "execution_count": null,
      "outputs": []
    },
    {
      "cell_type": "code",
      "metadata": {
        "id": "Bv8Iq-UPG8mT",
        "colab": {
          "base_uri": "https://localhost:8080/"
        },
        "outputId": "d0ee3f19-d1ed-45fd-b179-50518f3844f2"
      },
      "source": [
        "type(sum)"
      ],
      "execution_count": null,
      "outputs": [
        {
          "output_type": "execute_result",
          "data": {
            "text/plain": [
              "pyspark.rdd.PipelinedRDD"
            ]
          },
          "metadata": {},
          "execution_count": 31
        }
      ]
    },
    {
      "cell_type": "code",
      "metadata": {
        "id": "fxHdBOtNG8jA"
      },
      "source": [
        "suma=sum.collect()"
      ],
      "execution_count": null,
      "outputs": []
    },
    {
      "cell_type": "code",
      "source": [
        "type(suma)"
      ],
      "metadata": {
        "colab": {
          "base_uri": "https://localhost:8080/"
        },
        "id": "TvPpQL8N3_tc",
        "outputId": "403798b4-7bf6-4fc8-fddf-82b31f862d09"
      },
      "execution_count": null,
      "outputs": [
        {
          "output_type": "execute_result",
          "data": {
            "text/plain": [
              "list"
            ]
          },
          "metadata": {},
          "execution_count": 35
        }
      ]
    },
    {
      "cell_type": "code",
      "source": [
        "sum.collect()"
      ],
      "metadata": {
        "colab": {
          "base_uri": "https://localhost:8080/"
        },
        "id": "5miNJs2K4d-V",
        "outputId": "9dc85d3a-494c-4001-8e2a-f5ac5148afb1"
      },
      "execution_count": null,
      "outputs": [
        {
          "output_type": "execute_result",
          "data": {
            "text/plain": [
              "[('cat', 10), ('fox', 9), ('dog', 13)]"
            ]
          },
          "metadata": {},
          "execution_count": 39
        }
      ]
    },
    {
      "cell_type": "code",
      "metadata": {
        "id": "Ahb5Ft2HfvZz",
        "colab": {
          "base_uri": "https://localhost:8080/"
        },
        "outputId": "c4d3c3c8-46d9-4174-eb2b-69c45d9573ee"
      },
      "source": [
        "rdd.collect()"
      ],
      "execution_count": null,
      "outputs": [
        {
          "output_type": "execute_result",
          "data": {
            "text/plain": [
              "[('fox', 6),\n",
              " ('dog', 5),\n",
              " ('fox', 3),\n",
              " ('dog', 8),\n",
              " ('cat', 1),\n",
              " ('cat', 2),\n",
              " ('cat', 3),\n",
              " ('cat', 4)]"
            ]
          },
          "metadata": {},
          "execution_count": 33
        }
      ]
    },
    {
      "cell_type": "markdown",
      "metadata": {
        "id": "0-UenehgHqRJ"
      },
      "source": [
        "\n",
        "\n",
        "---\n",
        "\n"
      ]
    },
    {
      "cell_type": "markdown",
      "metadata": {
        "id": "7y3ms_dZRwPR"
      },
      "source": [
        "La transformación \n",
        "\n",
        "```\n",
        "# sortBy()\n",
        "```\n",
        "\n",
        " se usa para ordenar los elementos en orden descendente"
      ]
    },
    {
      "cell_type": "code",
      "metadata": {
        "id": "4HhowLwhRHRE",
        "colab": {
          "base_uri": "https://localhost:8080/"
        },
        "outputId": "af4a0c36-73d8-418b-aa95-89703330d17a"
      },
      "source": [
        "sum.sortBy(lambda x: -x[1]).take(5)"
      ],
      "execution_count": null,
      "outputs": [
        {
          "output_type": "execute_result",
          "data": {
            "text/plain": [
              "[('dog', 13), ('cat', 10), ('fox', 9)]"
            ]
          },
          "metadata": {},
          "execution_count": 41
        }
      ]
    },
    {
      "cell_type": "markdown",
      "metadata": {
        "id": "fz6VKMqpSCs_"
      },
      "source": [
        "\n",
        "\n",
        "---\n",
        "\n"
      ]
    },
    {
      "cell_type": "markdown",
      "metadata": {
        "id": "Cn7ejW4MMCIV"
      },
      "source": [
        "Creamos un rdd de numeros"
      ]
    },
    {
      "cell_type": "code",
      "metadata": {
        "id": "f4Y7wmYPLzXk"
      },
      "source": [
        "numberRDD = sc.parallelize(range(1,10))"
      ],
      "execution_count": null,
      "outputs": []
    },
    {
      "cell_type": "code",
      "metadata": {
        "id": "x9KEHdrmMA0u",
        "colab": {
          "base_uri": "https://localhost:8080/"
        },
        "outputId": "e6e4e3ba-b4d6-43ab-e96e-af8e57e56eb8"
      },
      "source": [
        "numberRDD.collect()"
      ],
      "execution_count": null,
      "outputs": [
        {
          "output_type": "execute_result",
          "data": {
            "text/plain": [
              "[1, 2, 3, 4, 5, 6, 7, 8, 9]"
            ]
          },
          "metadata": {},
          "execution_count": 43
        }
      ]
    },
    {
      "cell_type": "code",
      "metadata": {
        "id": "swCOpThYMA-H"
      },
      "source": [
        "#Múltiplos de 2\n",
        "evenNumberRDD = numberRDD.filter(lambda num: num%2 == 0)"
      ],
      "execution_count": null,
      "outputs": []
    },
    {
      "cell_type": "code",
      "metadata": {
        "id": "ZddvzuPkMA6n",
        "colab": {
          "base_uri": "https://localhost:8080/"
        },
        "outputId": "81958193-57b7-4f32-da8b-48530886ca08"
      },
      "source": [
        "#¿Cuantos elementos cumplen con el filtro?\n",
        "evenNumberRDD.count()"
      ],
      "execution_count": null,
      "outputs": [
        {
          "output_type": "execute_result",
          "data": {
            "text/plain": [
              "4"
            ]
          },
          "metadata": {},
          "execution_count": 46
        }
      ]
    },
    {
      "cell_type": "code",
      "metadata": {
        "id": "T7yvCAHeMip9",
        "colab": {
          "base_uri": "https://localhost:8080/"
        },
        "outputId": "4c713fbb-ec42-4444-e4d3-69a8b18aac17"
      },
      "source": [
        "#Muestrame el primer número que cumple con el filtro\n",
        "evenNumberRDD.take(1)"
      ],
      "execution_count": null,
      "outputs": [
        {
          "output_type": "execute_result",
          "data": {
            "text/plain": [
              "[2]"
            ]
          },
          "metadata": {},
          "execution_count": 47
        }
      ]
    },
    {
      "cell_type": "code",
      "metadata": {
        "id": "eEVWZBSONHj7",
        "colab": {
          "base_uri": "https://localhost:8080/"
        },
        "outputId": "e4549c11-25fb-4c2a-8c2d-78109a64e3dc"
      },
      "source": [
        "#Muestrame todos los datos que cumplen con el filtro\n",
        "evenNumberRDD.collect()"
      ],
      "execution_count": null,
      "outputs": [
        {
          "output_type": "execute_result",
          "data": {
            "text/plain": [
              "[2, 4, 6, 8]"
            ]
          },
          "metadata": {},
          "execution_count": 48
        }
      ]
    },
    {
      "cell_type": "markdown",
      "metadata": {
        "id": "zDZKk_T6OS45"
      },
      "source": [
        "\n",
        "\n",
        "---\n",
        "\n"
      ]
    },
    {
      "cell_type": "code",
      "metadata": {
        "id": "fvVoLyHuNiNz"
      },
      "source": [
        "#Crear un rdd de 100 muestras y comprobar\n",
        "newRDD = sc.parallelize(range(1,101))"
      ],
      "execution_count": null,
      "outputs": []
    },
    {
      "cell_type": "code",
      "metadata": {
        "id": "O9NeA-wGOFkG",
        "colab": {
          "base_uri": "https://localhost:8080/"
        },
        "outputId": "c95fcb11-91f4-4b5a-b323-37d5f1fb793e"
      },
      "source": [
        "#Comprobar el número de muesras creadas\n",
        "newRDD.count()"
      ],
      "execution_count": null,
      "outputs": [
        {
          "output_type": "execute_result",
          "data": {
            "text/plain": [
              "100"
            ]
          },
          "metadata": {},
          "execution_count": 62
        }
      ]
    },
    {
      "cell_type": "code",
      "metadata": {
        "colab": {
          "base_uri": "https://localhost:8080/"
        },
        "id": "TYSB27h4RPie",
        "outputId": "f66815b8-a47e-44ff-83ab-04f757013cf5"
      },
      "source": [
        "type(newRDD)"
      ],
      "execution_count": null,
      "outputs": [
        {
          "output_type": "execute_result",
          "data": {
            "text/plain": [
              "pyspark.rdd.PipelinedRDD"
            ]
          },
          "metadata": {},
          "execution_count": 63
        }
      ]
    },
    {
      "cell_type": "code",
      "metadata": {
        "id": "4o2cpI_AP80j",
        "colab": {
          "base_uri": "https://localhost:8080/"
        },
        "outputId": "2715709e-7b2a-4478-f86f-0f886cfefc4e"
      },
      "source": [
        "newRDD.take(10)"
      ],
      "execution_count": null,
      "outputs": [
        {
          "output_type": "execute_result",
          "data": {
            "text/plain": [
              "[1, 2, 3, 4, 5, 6, 7, 8, 9, 10]"
            ]
          },
          "metadata": {},
          "execution_count": 64
        }
      ]
    },
    {
      "cell_type": "code",
      "metadata": {
        "id": "kmvxxfSuOR0h"
      },
      "source": [
        "#Multiplicar cada elemento * 3\n",
        "MultX3 = newRDD.map(lambda s : s*3).persist()"
      ],
      "execution_count": null,
      "outputs": []
    },
    {
      "cell_type": "code",
      "metadata": {
        "id": "kQ0ljx_fQPTj",
        "colab": {
          "base_uri": "https://localhost:8080/"
        },
        "outputId": "48df371e-0aea-4599-8243-e04581fd4569"
      },
      "source": [
        "MultX3.take(10)"
      ],
      "execution_count": null,
      "outputs": [
        {
          "output_type": "execute_result",
          "data": {
            "text/plain": [
              "[3, 6, 9, 12, 15, 18, 21, 24, 27, 30]"
            ]
          },
          "metadata": {},
          "execution_count": 66
        }
      ]
    },
    {
      "cell_type": "code",
      "metadata": {
        "id": "iEa-0nz4Oq2_",
        "colab": {
          "base_uri": "https://localhost:8080/"
        },
        "outputId": "f0677bb5-a972-4bf2-da01-b0d689c0c54e"
      },
      "source": [
        "#Mostrar pares\n",
        "pares=MultX3.filter(lambda s: s%2 == 0).persist()\n",
        "pares.take(10)"
      ],
      "execution_count": null,
      "outputs": [
        {
          "output_type": "execute_result",
          "data": {
            "text/plain": [
              "[6, 12, 18, 24, 30, 36, 42, 48, 54, 60]"
            ]
          },
          "metadata": {},
          "execution_count": 67
        }
      ]
    },
    {
      "cell_type": "code",
      "metadata": {
        "id": "S2PY4Jx4PwV8",
        "colab": {
          "base_uri": "https://localhost:8080/"
        },
        "outputId": "356a88c6-f762-4557-f710-0eb7c7edf3ee"
      },
      "source": [
        "#Unir el rdd de MultX3 y pares, después mostrar el número total de muestras\n",
        "union1 = MultX3.union(pares)\n",
        "union1.count()"
      ],
      "execution_count": null,
      "outputs": [
        {
          "output_type": "execute_result",
          "data": {
            "text/plain": [
              "150"
            ]
          },
          "metadata": {},
          "execution_count": 68
        }
      ]
    },
    {
      "cell_type": "code",
      "metadata": {
        "id": "496RR-0ES1AO",
        "colab": {
          "base_uri": "https://localhost:8080/"
        },
        "outputId": "053d9720-f606-473a-f6d8-6bf10bc3b456"
      },
      "source": [
        "union1.take(2)"
      ],
      "execution_count": null,
      "outputs": [
        {
          "output_type": "execute_result",
          "data": {
            "text/plain": [
              "[3, 6]"
            ]
          },
          "metadata": {},
          "execution_count": 69
        }
      ]
    },
    {
      "cell_type": "markdown",
      "source": [
        "\n",
        "-------------------------------------------------------------------------------\n",
        "\n"
      ],
      "metadata": {
        "id": "2z_q_7b98wYK"
      }
    },
    {
      "cell_type": "code",
      "source": [
        "data = [(\"James\",\"Smith\",\"USA\",\"CA\"),(\"Michael\",\"Rose\",\"USA\",\"NY\"), \\\n",
        "    (\"Robert\",\"Williams\",\"USA\",\"CA\"),(\"Maria\",\"Jones\",\"USA\",\"FL\") \\\n",
        "  ]\n",
        "columns=[\"firstname\",\"lastname\",\"country\",\"state\"]\n",
        "df=spark.createDataFrame(data=data,schema=columns)\n",
        "df.show()\n",
        "print(df.collect())\n",
        "\n",
        "states1=df.rdd.map(lambda x: x[3]).collect()\n",
        "print(states1)\n",
        "#['CA', 'NY', 'CA', 'FL']\n",
        "from collections import OrderedDict \n",
        "res = list(OrderedDict.fromkeys(states1)) \n",
        "print(res)\n",
        "#['CA', 'NY', 'FL']\n",
        "\n",
        "\n",
        "#Example 2\n",
        "states2=df.rdd.map(lambda x: x.state).collect()\n",
        "print(states2)\n",
        "#['CA', 'NY', 'CA', 'FL']\n",
        "\n",
        "states3=df.select(df.state).collect()\n",
        "print(states3)\n",
        "#[Row(state='CA'), Row(state='NY'), Row(state='CA'), Row(state='FL')]\n",
        "\n",
        "states4=df.select(df.state).rdd.flatMap(lambda x: x).collect()\n",
        "print(states4)\n",
        "#['CA', 'NY', 'CA', 'FL']\n",
        "\n",
        "states5=df.select(df.state).toPandas()['state']\n",
        "states6=list(states5)\n",
        "print(states6)\n",
        "#['CA', 'NY', 'CA', 'FL']\n",
        "\n",
        "pandDF=df.select(df.state,df.firstname).toPandas()\n",
        "print(list(pandDF['state']))\n",
        "print(list(pandDF['firstname']))"
      ],
      "metadata": {
        "colab": {
          "base_uri": "https://localhost:8080/"
        },
        "id": "EVhwh4Le82Cj",
        "outputId": "adb166ed-619a-4b24-a016-c595b8123372"
      },
      "execution_count": null,
      "outputs": [
        {
          "output_type": "stream",
          "name": "stdout",
          "text": [
            "+---------+--------+-------+-----+\n",
            "|firstname|lastname|country|state|\n",
            "+---------+--------+-------+-----+\n",
            "|    James|   Smith|    USA|   CA|\n",
            "|  Michael|    Rose|    USA|   NY|\n",
            "|   Robert|Williams|    USA|   CA|\n",
            "|    Maria|   Jones|    USA|   FL|\n",
            "+---------+--------+-------+-----+\n",
            "\n",
            "[Row(firstname='James', lastname='Smith', country='USA', state='CA'), Row(firstname='Michael', lastname='Rose', country='USA', state='NY'), Row(firstname='Robert', lastname='Williams', country='USA', state='CA'), Row(firstname='Maria', lastname='Jones', country='USA', state='FL')]\n",
            "['CA', 'NY', 'CA', 'FL']\n",
            "['CA', 'NY', 'FL']\n",
            "['CA', 'NY', 'CA', 'FL']\n",
            "[Row(state='CA'), Row(state='NY'), Row(state='CA'), Row(state='FL')]\n",
            "['CA', 'NY', 'CA', 'FL']\n",
            "['CA', 'NY', 'CA', 'FL']\n",
            "['CA', 'NY', 'CA', 'FL']\n",
            "['James', 'Michael', 'Robert', 'Maria']\n"
          ]
        }
      ]
    },
    {
      "cell_type": "code",
      "source": [
        "dataDictionary = [\n",
        "        ('James',{'hair':'black','eye':'brown'}),\n",
        "        ('Michael',{'hair':'brown','eye':None}),\n",
        "        ('Robert',{'hair':'red','eye':'black'}),\n",
        "        ('Washington',{'hair':'grey','eye':'grey'}),\n",
        "        ('Jefferson',{'hair':'brown','eye':''})\n",
        "        ]\n",
        "\n",
        "df = spark.createDataFrame(data=dataDictionary, schema = ['name','properties'])\n",
        "df.printSchema()\n",
        "df.show(truncate=False)\n",
        "\n",
        "df3=df.rdd.map(lambda x: \\\n",
        "    (x.name,x.properties[\"hair\"],x.properties[\"eye\"])) \\\n",
        "    .toDF([\"name\",\"hair\",\"eye\"])\n",
        "df3.printSchema()\n",
        "df3.show()\n",
        "\n",
        "df.withColumn(\"hair\",df.properties.getItem(\"hair\")) \\\n",
        "  .withColumn(\"eye\",df.properties.getItem(\"eye\")) \\\n",
        "  .drop(\"properties\") \\\n",
        "  .show()\n",
        "\n",
        "df.withColumn(\"hair\",df.properties[\"hair\"]) \\\n",
        "  .withColumn(\"eye\",df.properties[\"eye\"]) \\\n",
        "  .drop(\"properties\") \\\n",
        "  .show()\n",
        "\n",
        "# Functions\n",
        "from pyspark.sql.functions import explode,map_keys,col\n",
        "keysDF = df.select(explode(map_keys(df.properties))).distinct()\n",
        "keysList = keysDF.rdd.map(lambda x:x[0]).collect()\n",
        "keyCols = list(map(lambda x: col(\"properties\").getItem(x).alias(str(x)), keysList))\n",
        "df.select(df.name, *keyCols).show()"
      ],
      "metadata": {
        "colab": {
          "base_uri": "https://localhost:8080/"
        },
        "id": "Li-L8uqL9NJK",
        "outputId": "3744f487-d13c-450a-fe82-558ee83fc545"
      },
      "execution_count": null,
      "outputs": [
        {
          "output_type": "stream",
          "name": "stdout",
          "text": [
            "root\n",
            " |-- name: string (nullable = true)\n",
            " |-- properties: map (nullable = true)\n",
            " |    |-- key: string\n",
            " |    |-- value: string (valueContainsNull = true)\n",
            "\n",
            "+----------+-----------------------------+\n",
            "|name      |properties                   |\n",
            "+----------+-----------------------------+\n",
            "|James     |{eye -> brown, hair -> black}|\n",
            "|Michael   |{eye -> null, hair -> brown} |\n",
            "|Robert    |{eye -> black, hair -> red}  |\n",
            "|Washington|{eye -> grey, hair -> grey}  |\n",
            "|Jefferson |{eye -> , hair -> brown}     |\n",
            "+----------+-----------------------------+\n",
            "\n",
            "root\n",
            " |-- name: string (nullable = true)\n",
            " |-- hair: string (nullable = true)\n",
            " |-- eye: string (nullable = true)\n",
            "\n",
            "+----------+-----+-----+\n",
            "|      name| hair|  eye|\n",
            "+----------+-----+-----+\n",
            "|     James|black|brown|\n",
            "|   Michael|brown| null|\n",
            "|    Robert|  red|black|\n",
            "|Washington| grey| grey|\n",
            "| Jefferson|brown|     |\n",
            "+----------+-----+-----+\n",
            "\n",
            "+----------+-----+-----+\n",
            "|      name| hair|  eye|\n",
            "+----------+-----+-----+\n",
            "|     James|black|brown|\n",
            "|   Michael|brown| null|\n",
            "|    Robert|  red|black|\n",
            "|Washington| grey| grey|\n",
            "| Jefferson|brown|     |\n",
            "+----------+-----+-----+\n",
            "\n",
            "+----------+-----+-----+\n",
            "|      name| hair|  eye|\n",
            "+----------+-----+-----+\n",
            "|     James|black|brown|\n",
            "|   Michael|brown| null|\n",
            "|    Robert|  red|black|\n",
            "|Washington| grey| grey|\n",
            "| Jefferson|brown|     |\n",
            "+----------+-----+-----+\n",
            "\n",
            "+----------+-----+-----+\n",
            "|      name|  eye| hair|\n",
            "+----------+-----+-----+\n",
            "|     James|brown|black|\n",
            "|   Michael| null|brown|\n",
            "|    Robert|black|  red|\n",
            "|Washington| grey| grey|\n",
            "| Jefferson|     |brown|\n",
            "+----------+-----+-----+\n",
            "\n"
          ]
        }
      ]
    }
  ]
}